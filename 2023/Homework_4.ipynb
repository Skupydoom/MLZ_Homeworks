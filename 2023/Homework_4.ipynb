{
 "cells": [
  {
   "cell_type": "markdown",
   "id": "c39214fa-7566-4c03-ba3d-f4755a712435",
   "metadata": {},
   "source": [
    "Answers:\n",
    "1) engine_hp  \n",
    "2) 0.979\n",
    "3) 0.48\n",
    "4) 0.52   \n",
    "5) e  \n",
    "6) f"
   ]
  },
  {
   "cell_type": "markdown",
   "id": "a2f06cfa-6c9e-426f-816c-d25867ce620c",
   "metadata": {},
   "source": [
    "# Task preparation"
   ]
  },
  {
   "cell_type": "code",
   "execution_count": 1,
   "id": "c7a5ba2d-daba-4236-949e-f4793f1868bc",
   "metadata": {},
   "outputs": [],
   "source": [
    "import numpy as np\n",
    "import pandas as pd\n",
    "from sklearn.model_selection import train_test_split\n",
    "from sklearn.metrics import roc_auc_score\n",
    "from sklearn.feature_extraction import DictVectorizer\n",
    "from sklearn.linear_model import LogisticRegression\n",
    "import matplotlib.pyplot as plt\n",
    "\n",
    "%matplotlib inline"
   ]
  },
  {
   "cell_type": "code",
   "execution_count": 2,
   "id": "3f143379-7e27-48c6-b296-63791e5cfaa5",
   "metadata": {},
   "outputs": [],
   "source": [
    "df = pd.read_csv(\"data.csv\")"
   ]
  },
  {
   "cell_type": "code",
   "execution_count": 3,
   "id": "bc410e72-2642-4314-afc3-14bd19441859",
   "metadata": {},
   "outputs": [
    {
     "data": {
      "text/html": [
       "<div>\n",
       "<style scoped>\n",
       "    .dataframe tbody tr th:only-of-type {\n",
       "        vertical-align: middle;\n",
       "    }\n",
       "\n",
       "    .dataframe tbody tr th {\n",
       "        vertical-align: top;\n",
       "    }\n",
       "\n",
       "    .dataframe thead th {\n",
       "        text-align: right;\n",
       "    }\n",
       "</style>\n",
       "<table border=\"1\" class=\"dataframe\">\n",
       "  <thead>\n",
       "    <tr style=\"text-align: right;\">\n",
       "      <th></th>\n",
       "      <th>Make</th>\n",
       "      <th>Model</th>\n",
       "      <th>Year</th>\n",
       "      <th>Engine Fuel Type</th>\n",
       "      <th>Engine HP</th>\n",
       "      <th>Engine Cylinders</th>\n",
       "      <th>Transmission Type</th>\n",
       "      <th>Driven_Wheels</th>\n",
       "      <th>Number of Doors</th>\n",
       "      <th>Market Category</th>\n",
       "      <th>Vehicle Size</th>\n",
       "      <th>Vehicle Style</th>\n",
       "      <th>highway MPG</th>\n",
       "      <th>city mpg</th>\n",
       "      <th>Popularity</th>\n",
       "      <th>MSRP</th>\n",
       "    </tr>\n",
       "  </thead>\n",
       "  <tbody>\n",
       "    <tr>\n",
       "      <th>0</th>\n",
       "      <td>BMW</td>\n",
       "      <td>1 Series M</td>\n",
       "      <td>2011</td>\n",
       "      <td>premium unleaded (required)</td>\n",
       "      <td>335.0</td>\n",
       "      <td>6.0</td>\n",
       "      <td>MANUAL</td>\n",
       "      <td>rear wheel drive</td>\n",
       "      <td>2.0</td>\n",
       "      <td>Factory Tuner,Luxury,High-Performance</td>\n",
       "      <td>Compact</td>\n",
       "      <td>Coupe</td>\n",
       "      <td>26</td>\n",
       "      <td>19</td>\n",
       "      <td>3916</td>\n",
       "      <td>46135</td>\n",
       "    </tr>\n",
       "    <tr>\n",
       "      <th>1</th>\n",
       "      <td>BMW</td>\n",
       "      <td>1 Series</td>\n",
       "      <td>2011</td>\n",
       "      <td>premium unleaded (required)</td>\n",
       "      <td>300.0</td>\n",
       "      <td>6.0</td>\n",
       "      <td>MANUAL</td>\n",
       "      <td>rear wheel drive</td>\n",
       "      <td>2.0</td>\n",
       "      <td>Luxury,Performance</td>\n",
       "      <td>Compact</td>\n",
       "      <td>Convertible</td>\n",
       "      <td>28</td>\n",
       "      <td>19</td>\n",
       "      <td>3916</td>\n",
       "      <td>40650</td>\n",
       "    </tr>\n",
       "    <tr>\n",
       "      <th>2</th>\n",
       "      <td>BMW</td>\n",
       "      <td>1 Series</td>\n",
       "      <td>2011</td>\n",
       "      <td>premium unleaded (required)</td>\n",
       "      <td>300.0</td>\n",
       "      <td>6.0</td>\n",
       "      <td>MANUAL</td>\n",
       "      <td>rear wheel drive</td>\n",
       "      <td>2.0</td>\n",
       "      <td>Luxury,High-Performance</td>\n",
       "      <td>Compact</td>\n",
       "      <td>Coupe</td>\n",
       "      <td>28</td>\n",
       "      <td>20</td>\n",
       "      <td>3916</td>\n",
       "      <td>36350</td>\n",
       "    </tr>\n",
       "    <tr>\n",
       "      <th>3</th>\n",
       "      <td>BMW</td>\n",
       "      <td>1 Series</td>\n",
       "      <td>2011</td>\n",
       "      <td>premium unleaded (required)</td>\n",
       "      <td>230.0</td>\n",
       "      <td>6.0</td>\n",
       "      <td>MANUAL</td>\n",
       "      <td>rear wheel drive</td>\n",
       "      <td>2.0</td>\n",
       "      <td>Luxury,Performance</td>\n",
       "      <td>Compact</td>\n",
       "      <td>Coupe</td>\n",
       "      <td>28</td>\n",
       "      <td>18</td>\n",
       "      <td>3916</td>\n",
       "      <td>29450</td>\n",
       "    </tr>\n",
       "    <tr>\n",
       "      <th>4</th>\n",
       "      <td>BMW</td>\n",
       "      <td>1 Series</td>\n",
       "      <td>2011</td>\n",
       "      <td>premium unleaded (required)</td>\n",
       "      <td>230.0</td>\n",
       "      <td>6.0</td>\n",
       "      <td>MANUAL</td>\n",
       "      <td>rear wheel drive</td>\n",
       "      <td>2.0</td>\n",
       "      <td>Luxury</td>\n",
       "      <td>Compact</td>\n",
       "      <td>Convertible</td>\n",
       "      <td>28</td>\n",
       "      <td>18</td>\n",
       "      <td>3916</td>\n",
       "      <td>34500</td>\n",
       "    </tr>\n",
       "  </tbody>\n",
       "</table>\n",
       "</div>"
      ],
      "text/plain": [
       "  Make       Model  Year             Engine Fuel Type  Engine HP  \\\n",
       "0  BMW  1 Series M  2011  premium unleaded (required)      335.0   \n",
       "1  BMW    1 Series  2011  premium unleaded (required)      300.0   \n",
       "2  BMW    1 Series  2011  premium unleaded (required)      300.0   \n",
       "3  BMW    1 Series  2011  premium unleaded (required)      230.0   \n",
       "4  BMW    1 Series  2011  premium unleaded (required)      230.0   \n",
       "\n",
       "   Engine Cylinders Transmission Type     Driven_Wheels  Number of Doors  \\\n",
       "0               6.0            MANUAL  rear wheel drive              2.0   \n",
       "1               6.0            MANUAL  rear wheel drive              2.0   \n",
       "2               6.0            MANUAL  rear wheel drive              2.0   \n",
       "3               6.0            MANUAL  rear wheel drive              2.0   \n",
       "4               6.0            MANUAL  rear wheel drive              2.0   \n",
       "\n",
       "                         Market Category Vehicle Size Vehicle Style  \\\n",
       "0  Factory Tuner,Luxury,High-Performance      Compact         Coupe   \n",
       "1                     Luxury,Performance      Compact   Convertible   \n",
       "2                Luxury,High-Performance      Compact         Coupe   \n",
       "3                     Luxury,Performance      Compact         Coupe   \n",
       "4                                 Luxury      Compact   Convertible   \n",
       "\n",
       "   highway MPG  city mpg  Popularity   MSRP  \n",
       "0           26        19        3916  46135  \n",
       "1           28        19        3916  40650  \n",
       "2           28        20        3916  36350  \n",
       "3           28        18        3916  29450  \n",
       "4           28        18        3916  34500  "
      ]
     },
     "execution_count": 3,
     "metadata": {},
     "output_type": "execute_result"
    }
   ],
   "source": [
    "df.head()"
   ]
  },
  {
   "cell_type": "code",
   "execution_count": 4,
   "id": "d885b690-35a9-461c-a9cd-6dde756d5d25",
   "metadata": {},
   "outputs": [
    {
     "name": "stdout",
     "output_type": "stream",
     "text": [
      "<class 'pandas.core.frame.DataFrame'>\n",
      "RangeIndex: 11914 entries, 0 to 11913\n",
      "Data columns (total 16 columns):\n",
      " #   Column             Non-Null Count  Dtype  \n",
      "---  ------             --------------  -----  \n",
      " 0   Make               11914 non-null  object \n",
      " 1   Model              11914 non-null  object \n",
      " 2   Year               11914 non-null  int64  \n",
      " 3   Engine Fuel Type   11911 non-null  object \n",
      " 4   Engine HP          11845 non-null  float64\n",
      " 5   Engine Cylinders   11884 non-null  float64\n",
      " 6   Transmission Type  11914 non-null  object \n",
      " 7   Driven_Wheels      11914 non-null  object \n",
      " 8   Number of Doors    11908 non-null  float64\n",
      " 9   Market Category    8172 non-null   object \n",
      " 10  Vehicle Size       11914 non-null  object \n",
      " 11  Vehicle Style      11914 non-null  object \n",
      " 12  highway MPG        11914 non-null  int64  \n",
      " 13  city mpg           11914 non-null  int64  \n",
      " 14  Popularity         11914 non-null  int64  \n",
      " 15  MSRP               11914 non-null  int64  \n",
      "dtypes: float64(3), int64(5), object(8)\n",
      "memory usage: 1.5+ MB\n"
     ]
    }
   ],
   "source": [
    "df.info()"
   ]
  },
  {
   "cell_type": "code",
   "execution_count": 5,
   "id": "777e1f0c-dfeb-4517-ae11-abccf67f552f",
   "metadata": {},
   "outputs": [
    {
     "data": {
      "text/plain": [
       "['Make',\n",
       " 'Model',\n",
       " 'Year',\n",
       " 'Engine HP',\n",
       " 'Engine Cylinders',\n",
       " 'Transmission Type',\n",
       " 'Vehicle Style',\n",
       " 'highway MPG',\n",
       " 'city mpg',\n",
       " 'MSRP']"
      ]
     },
     "execution_count": 5,
     "metadata": {},
     "output_type": "execute_result"
    }
   ],
   "source": [
    "cols = [\"Make\", \"Model\", \"Year\", \"Engine HP\", \"Engine Cylinders\", \"Transmission Type\", \"Vehicle Style\", \"highway MPG\", \"city mpg\", \"MSRP\"]\n",
    "cols"
   ]
  },
  {
   "cell_type": "code",
   "execution_count": 6,
   "id": "fab13296-6f35-4f7d-ac5d-4e36d9438286",
   "metadata": {},
   "outputs": [],
   "source": [
    "new_df = df[cols]"
   ]
  },
  {
   "cell_type": "code",
   "execution_count": 7,
   "id": "6bfff00a-843e-4a28-8038-2fb1eb586688",
   "metadata": {},
   "outputs": [],
   "source": [
    "new_df.columns = new_df.columns.str.replace(\" \", \"_\").str.lower()"
   ]
  },
  {
   "cell_type": "code",
   "execution_count": 8,
   "id": "13c15ade-bc09-4b44-be53-d06ff5156579",
   "metadata": {},
   "outputs": [
    {
     "data": {
      "text/html": [
       "<div>\n",
       "<style scoped>\n",
       "    .dataframe tbody tr th:only-of-type {\n",
       "        vertical-align: middle;\n",
       "    }\n",
       "\n",
       "    .dataframe tbody tr th {\n",
       "        vertical-align: top;\n",
       "    }\n",
       "\n",
       "    .dataframe thead th {\n",
       "        text-align: right;\n",
       "    }\n",
       "</style>\n",
       "<table border=\"1\" class=\"dataframe\">\n",
       "  <thead>\n",
       "    <tr style=\"text-align: right;\">\n",
       "      <th></th>\n",
       "      <th>make</th>\n",
       "      <th>model</th>\n",
       "      <th>year</th>\n",
       "      <th>engine_hp</th>\n",
       "      <th>engine_cylinders</th>\n",
       "      <th>transmission_type</th>\n",
       "      <th>vehicle_style</th>\n",
       "      <th>highway_mpg</th>\n",
       "      <th>city_mpg</th>\n",
       "      <th>msrp</th>\n",
       "    </tr>\n",
       "  </thead>\n",
       "  <tbody>\n",
       "    <tr>\n",
       "      <th>0</th>\n",
       "      <td>BMW</td>\n",
       "      <td>1 Series M</td>\n",
       "      <td>2011</td>\n",
       "      <td>335.0</td>\n",
       "      <td>6.0</td>\n",
       "      <td>MANUAL</td>\n",
       "      <td>Coupe</td>\n",
       "      <td>26</td>\n",
       "      <td>19</td>\n",
       "      <td>46135</td>\n",
       "    </tr>\n",
       "    <tr>\n",
       "      <th>1</th>\n",
       "      <td>BMW</td>\n",
       "      <td>1 Series</td>\n",
       "      <td>2011</td>\n",
       "      <td>300.0</td>\n",
       "      <td>6.0</td>\n",
       "      <td>MANUAL</td>\n",
       "      <td>Convertible</td>\n",
       "      <td>28</td>\n",
       "      <td>19</td>\n",
       "      <td>40650</td>\n",
       "    </tr>\n",
       "    <tr>\n",
       "      <th>2</th>\n",
       "      <td>BMW</td>\n",
       "      <td>1 Series</td>\n",
       "      <td>2011</td>\n",
       "      <td>300.0</td>\n",
       "      <td>6.0</td>\n",
       "      <td>MANUAL</td>\n",
       "      <td>Coupe</td>\n",
       "      <td>28</td>\n",
       "      <td>20</td>\n",
       "      <td>36350</td>\n",
       "    </tr>\n",
       "    <tr>\n",
       "      <th>3</th>\n",
       "      <td>BMW</td>\n",
       "      <td>1 Series</td>\n",
       "      <td>2011</td>\n",
       "      <td>230.0</td>\n",
       "      <td>6.0</td>\n",
       "      <td>MANUAL</td>\n",
       "      <td>Coupe</td>\n",
       "      <td>28</td>\n",
       "      <td>18</td>\n",
       "      <td>29450</td>\n",
       "    </tr>\n",
       "    <tr>\n",
       "      <th>4</th>\n",
       "      <td>BMW</td>\n",
       "      <td>1 Series</td>\n",
       "      <td>2011</td>\n",
       "      <td>230.0</td>\n",
       "      <td>6.0</td>\n",
       "      <td>MANUAL</td>\n",
       "      <td>Convertible</td>\n",
       "      <td>28</td>\n",
       "      <td>18</td>\n",
       "      <td>34500</td>\n",
       "    </tr>\n",
       "  </tbody>\n",
       "</table>\n",
       "</div>"
      ],
      "text/plain": [
       "  make       model  year  engine_hp  engine_cylinders transmission_type  \\\n",
       "0  BMW  1 Series M  2011      335.0               6.0            MANUAL   \n",
       "1  BMW    1 Series  2011      300.0               6.0            MANUAL   \n",
       "2  BMW    1 Series  2011      300.0               6.0            MANUAL   \n",
       "3  BMW    1 Series  2011      230.0               6.0            MANUAL   \n",
       "4  BMW    1 Series  2011      230.0               6.0            MANUAL   \n",
       "\n",
       "  vehicle_style  highway_mpg  city_mpg   msrp  \n",
       "0         Coupe           26        19  46135  \n",
       "1   Convertible           28        19  40650  \n",
       "2         Coupe           28        20  36350  \n",
       "3         Coupe           28        18  29450  \n",
       "4   Convertible           28        18  34500  "
      ]
     },
     "execution_count": 8,
     "metadata": {},
     "output_type": "execute_result"
    }
   ],
   "source": [
    "new_df.head()"
   ]
  },
  {
   "cell_type": "code",
   "execution_count": 9,
   "id": "7503a9c3-1c22-4c88-b114-23a65b94ea40",
   "metadata": {},
   "outputs": [
    {
     "data": {
      "text/plain": [
       "make                  0\n",
       "model                 0\n",
       "year                  0\n",
       "engine_hp            69\n",
       "engine_cylinders     30\n",
       "transmission_type     0\n",
       "vehicle_style         0\n",
       "highway_mpg           0\n",
       "city_mpg              0\n",
       "msrp                  0\n",
       "dtype: int64"
      ]
     },
     "execution_count": 9,
     "metadata": {},
     "output_type": "execute_result"
    }
   ],
   "source": [
    "new_df.isna().sum()"
   ]
  },
  {
   "cell_type": "code",
   "execution_count": 10,
   "id": "0407bd41-8780-4be8-87e3-534e0612d620",
   "metadata": {},
   "outputs": [],
   "source": [
    "new_df = new_df.fillna(0)"
   ]
  },
  {
   "cell_type": "code",
   "execution_count": 11,
   "id": "1c2aef81-6aa7-40eb-ae90-856c0eeeebff",
   "metadata": {},
   "outputs": [
    {
     "data": {
      "text/plain": [
       "make                 0\n",
       "model                0\n",
       "year                 0\n",
       "engine_hp            0\n",
       "engine_cylinders     0\n",
       "transmission_type    0\n",
       "vehicle_style        0\n",
       "highway_mpg          0\n",
       "city_mpg             0\n",
       "msrp                 0\n",
       "dtype: int64"
      ]
     },
     "execution_count": 11,
     "metadata": {},
     "output_type": "execute_result"
    }
   ],
   "source": [
    "new_df.isna().sum()"
   ]
  },
  {
   "cell_type": "code",
   "execution_count": 12,
   "id": "d9792081-16e3-4c9a-b192-62e5f1fb40db",
   "metadata": {},
   "outputs": [],
   "source": [
    "avg_price = new_df.msrp.mean()\n",
    "above_average = (new_df.msrp > avg_price).astype(int)"
   ]
  },
  {
   "cell_type": "code",
   "execution_count": 13,
   "id": "8c698ed7-0d80-4fc6-9d2a-363e1d90e1d4",
   "metadata": {},
   "outputs": [
    {
     "data": {
      "text/plain": [
       "((9531, 9),\n",
       " (9531,),\n",
       " (7148, 9),\n",
       " (7148,),\n",
       " (2383, 9),\n",
       " (2383,),\n",
       " (2383, 9),\n",
       " (2383,))"
      ]
     },
     "execution_count": 13,
     "metadata": {},
     "output_type": "execute_result"
    }
   ],
   "source": [
    "X_full_train, X_test, y_full_train, y_test = train_test_split(new_df, above_average, test_size=0.2, random_state=1)\n",
    "X_train, X_val, y_train, y_val = train_test_split(X_full_train, y_full_train, test_size=0.25, random_state=1)\n",
    "\n",
    "X_full_train.drop(\"msrp\", axis=1, inplace=True)\n",
    "X_train.drop(\"msrp\", axis=1, inplace=True)\n",
    "X_val.drop(\"msrp\", axis=1, inplace=True)\n",
    "X_test.drop(\"msrp\", axis=1, inplace=True)\n",
    "\n",
    "X_full_train.shape, y_full_train.shape, X_train.shape, y_train.shape, X_val.shape, y_val.shape, X_test.shape, y_test.shape"
   ]
  },
  {
   "cell_type": "markdown",
   "id": "0a0998e9-21c9-4b96-94ef-24360bfb4d3c",
   "metadata": {},
   "source": [
    "# ROC AUC feature importance"
   ]
  },
  {
   "cell_type": "code",
   "execution_count": 14,
   "id": "6c5e14cc-e454-4236-95ca-fe2d50af4935",
   "metadata": {},
   "outputs": [
    {
     "data": {
      "text/plain": [
       "['year', 'engine_hp', 'engine_cylinders', 'highway_mpg', 'city_mpg']"
      ]
     },
     "execution_count": 14,
     "metadata": {},
     "output_type": "execute_result"
    }
   ],
   "source": [
    "numeric_cols = list(X_train.select_dtypes(include=[\"int\", \"float\"]).columns)\n",
    "numeric_cols"
   ]
  },
  {
   "cell_type": "code",
   "execution_count": 15,
   "id": "7e48551f",
   "metadata": {},
   "outputs": [
    {
     "data": {
      "text/plain": [
       "5727    2016\n",
       "5814    2014\n",
       "8450    2016\n",
       "2396    2015\n",
       "5494    2016\n",
       "        ... \n",
       "5864    2015\n",
       "7924    2016\n",
       "4719    2017\n",
       "63      1991\n",
       "7918    2003\n",
       "Name: year, Length: 7148, dtype: int64"
      ]
     },
     "execution_count": 15,
     "metadata": {},
     "output_type": "execute_result"
    }
   ],
   "source": [
    "X_train.year"
   ]
  },
  {
   "cell_type": "code",
   "execution_count": 16,
   "id": "162d9444-3b5d-4aca-aa71-cda096032334",
   "metadata": {},
   "outputs": [
    {
     "data": {
      "text/plain": [
       "0.687551492804683"
      ]
     },
     "execution_count": 16,
     "metadata": {},
     "output_type": "execute_result"
    }
   ],
   "source": [
    "roc_auc_score(y_train, X_train.year)"
   ]
  },
  {
   "cell_type": "code",
   "execution_count": 17,
   "id": "778f896a-a8c8-4a38-a118-911a7bfb4447",
   "metadata": {},
   "outputs": [
    {
     "name": "stdout",
     "output_type": "stream",
     "text": [
      "year: 0.69\n",
      "engine_hp: 0.92\n",
      "engine_cylinders: 0.77\n",
      "highway_mpg: 0.63\n",
      "city_mpg: 0.67\n"
     ]
    }
   ],
   "source": [
    "for col in numeric_cols:\n",
    "    roc_auc_col = roc_auc_score(y_train, X_train[col])\n",
    "    print(f\"{col}: %.2f\" % (roc_auc_col if roc_auc_col >= 0.5 else roc_auc_score(y_train, -X_train[col])))"
   ]
  },
  {
   "cell_type": "markdown",
   "id": "4b86eae4",
   "metadata": {},
   "source": [
    "The highest auc: engine_hp."
   ]
  },
  {
   "cell_type": "code",
   "execution_count": 18,
   "id": "ac69f1ec",
   "metadata": {},
   "outputs": [],
   "source": [
    "dv = DictVectorizer(sparse=False)\n",
    "\n",
    "train_dict = X_train.to_dict(orient=\"records\")\n",
    "X_train_ = dv.fit_transform(train_dict)\n",
    "\n",
    "val_dict = X_val.to_dict(orient=\"records\")\n",
    "X_val_ = dv.transform(val_dict)"
   ]
  },
  {
   "cell_type": "code",
   "execution_count": 19,
   "id": "5f07efb6-df93-48a0-b2d3-53456841c9a0",
   "metadata": {},
   "outputs": [],
   "source": [
    "model = LogisticRegression(solver='liblinear', C=1.0, max_iter=1000)\n",
    "\n",
    "model.fit(X_train_, y_train)\n",
    "None"
   ]
  },
  {
   "cell_type": "code",
   "execution_count": 20,
   "id": "66e26508-9f73-47df-a14b-2427fabb7312",
   "metadata": {},
   "outputs": [
    {
     "data": {
      "text/plain": [
       "0.979"
      ]
     },
     "execution_count": 20,
     "metadata": {},
     "output_type": "execute_result"
    }
   ],
   "source": [
    "y_pred = model.predict_proba(X_val_)[:, 1]\n",
    "roc_auc_score(y_val, y_pred).round(3)"
   ]
  },
  {
   "cell_type": "code",
   "execution_count": 21,
   "id": "6c91d778-bda1-4def-82b5-a97ccf383fe3",
   "metadata": {},
   "outputs": [
    {
     "data": {
      "text/html": [
       "<div>\n",
       "<style scoped>\n",
       "    .dataframe tbody tr th:only-of-type {\n",
       "        vertical-align: middle;\n",
       "    }\n",
       "\n",
       "    .dataframe tbody tr th {\n",
       "        vertical-align: top;\n",
       "    }\n",
       "\n",
       "    .dataframe thead th {\n",
       "        text-align: right;\n",
       "    }\n",
       "</style>\n",
       "<table border=\"1\" class=\"dataframe\">\n",
       "  <thead>\n",
       "    <tr style=\"text-align: right;\">\n",
       "      <th></th>\n",
       "      <th>make</th>\n",
       "      <th>model</th>\n",
       "      <th>year</th>\n",
       "      <th>engine_hp</th>\n",
       "      <th>engine_cylinders</th>\n",
       "      <th>transmission_type</th>\n",
       "      <th>vehicle_style</th>\n",
       "      <th>highway_mpg</th>\n",
       "      <th>city_mpg</th>\n",
       "    </tr>\n",
       "  </thead>\n",
       "  <tbody>\n",
       "    <tr>\n",
       "      <th>5727</th>\n",
       "      <td>Toyota</td>\n",
       "      <td>Highlander Hybrid</td>\n",
       "      <td>2016</td>\n",
       "      <td>280.0</td>\n",
       "      <td>6.0</td>\n",
       "      <td>AUTOMATIC</td>\n",
       "      <td>4dr SUV</td>\n",
       "      <td>28</td>\n",
       "      <td>27</td>\n",
       "    </tr>\n",
       "    <tr>\n",
       "      <th>5814</th>\n",
       "      <td>Chevrolet</td>\n",
       "      <td>Impala Limited</td>\n",
       "      <td>2014</td>\n",
       "      <td>300.0</td>\n",
       "      <td>6.0</td>\n",
       "      <td>AUTOMATIC</td>\n",
       "      <td>Sedan</td>\n",
       "      <td>30</td>\n",
       "      <td>18</td>\n",
       "    </tr>\n",
       "    <tr>\n",
       "      <th>8450</th>\n",
       "      <td>Buick</td>\n",
       "      <td>Regal</td>\n",
       "      <td>2016</td>\n",
       "      <td>259.0</td>\n",
       "      <td>4.0</td>\n",
       "      <td>AUTOMATIC</td>\n",
       "      <td>Sedan</td>\n",
       "      <td>27</td>\n",
       "      <td>19</td>\n",
       "    </tr>\n",
       "    <tr>\n",
       "      <th>2396</th>\n",
       "      <td>Volkswagen</td>\n",
       "      <td>CC</td>\n",
       "      <td>2015</td>\n",
       "      <td>280.0</td>\n",
       "      <td>6.0</td>\n",
       "      <td>AUTOMATED_MANUAL</td>\n",
       "      <td>Sedan</td>\n",
       "      <td>25</td>\n",
       "      <td>17</td>\n",
       "    </tr>\n",
       "    <tr>\n",
       "      <th>5494</th>\n",
       "      <td>Dodge</td>\n",
       "      <td>Grand Caravan</td>\n",
       "      <td>2016</td>\n",
       "      <td>283.0</td>\n",
       "      <td>6.0</td>\n",
       "      <td>AUTOMATIC</td>\n",
       "      <td>Passenger Minivan</td>\n",
       "      <td>25</td>\n",
       "      <td>17</td>\n",
       "    </tr>\n",
       "    <tr>\n",
       "      <th>...</th>\n",
       "      <td>...</td>\n",
       "      <td>...</td>\n",
       "      <td>...</td>\n",
       "      <td>...</td>\n",
       "      <td>...</td>\n",
       "      <td>...</td>\n",
       "      <td>...</td>\n",
       "      <td>...</td>\n",
       "      <td>...</td>\n",
       "    </tr>\n",
       "    <tr>\n",
       "      <th>5864</th>\n",
       "      <td>Subaru</td>\n",
       "      <td>Impreza</td>\n",
       "      <td>2015</td>\n",
       "      <td>148.0</td>\n",
       "      <td>4.0</td>\n",
       "      <td>MANUAL</td>\n",
       "      <td>4dr Hatchback</td>\n",
       "      <td>33</td>\n",
       "      <td>24</td>\n",
       "    </tr>\n",
       "    <tr>\n",
       "      <th>7924</th>\n",
       "      <td>Infiniti</td>\n",
       "      <td>QX50</td>\n",
       "      <td>2016</td>\n",
       "      <td>325.0</td>\n",
       "      <td>6.0</td>\n",
       "      <td>AUTOMATIC</td>\n",
       "      <td>4dr SUV</td>\n",
       "      <td>24</td>\n",
       "      <td>17</td>\n",
       "    </tr>\n",
       "    <tr>\n",
       "      <th>4719</th>\n",
       "      <td>Honda</td>\n",
       "      <td>Fit</td>\n",
       "      <td>2017</td>\n",
       "      <td>130.0</td>\n",
       "      <td>4.0</td>\n",
       "      <td>AUTOMATIC</td>\n",
       "      <td>4dr Hatchback</td>\n",
       "      <td>37</td>\n",
       "      <td>32</td>\n",
       "    </tr>\n",
       "    <tr>\n",
       "      <th>63</th>\n",
       "      <td>Audi</td>\n",
       "      <td>200</td>\n",
       "      <td>1991</td>\n",
       "      <td>162.0</td>\n",
       "      <td>5.0</td>\n",
       "      <td>AUTOMATIC</td>\n",
       "      <td>Sedan</td>\n",
       "      <td>20</td>\n",
       "      <td>16</td>\n",
       "    </tr>\n",
       "    <tr>\n",
       "      <th>7918</th>\n",
       "      <td>Infiniti</td>\n",
       "      <td>QX4</td>\n",
       "      <td>2003</td>\n",
       "      <td>240.0</td>\n",
       "      <td>6.0</td>\n",
       "      <td>AUTOMATIC</td>\n",
       "      <td>4dr SUV</td>\n",
       "      <td>18</td>\n",
       "      <td>14</td>\n",
       "    </tr>\n",
       "  </tbody>\n",
       "</table>\n",
       "<p>7148 rows × 9 columns</p>\n",
       "</div>"
      ],
      "text/plain": [
       "            make              model  year  engine_hp  engine_cylinders  \\\n",
       "5727      Toyota  Highlander Hybrid  2016      280.0               6.0   \n",
       "5814   Chevrolet     Impala Limited  2014      300.0               6.0   \n",
       "8450       Buick              Regal  2016      259.0               4.0   \n",
       "2396  Volkswagen                 CC  2015      280.0               6.0   \n",
       "5494       Dodge      Grand Caravan  2016      283.0               6.0   \n",
       "...          ...                ...   ...        ...               ...   \n",
       "5864      Subaru            Impreza  2015      148.0               4.0   \n",
       "7924    Infiniti               QX50  2016      325.0               6.0   \n",
       "4719       Honda                Fit  2017      130.0               4.0   \n",
       "63          Audi                200  1991      162.0               5.0   \n",
       "7918    Infiniti                QX4  2003      240.0               6.0   \n",
       "\n",
       "     transmission_type      vehicle_style  highway_mpg  city_mpg  \n",
       "5727         AUTOMATIC            4dr SUV           28        27  \n",
       "5814         AUTOMATIC              Sedan           30        18  \n",
       "8450         AUTOMATIC              Sedan           27        19  \n",
       "2396  AUTOMATED_MANUAL              Sedan           25        17  \n",
       "5494         AUTOMATIC  Passenger Minivan           25        17  \n",
       "...                ...                ...          ...       ...  \n",
       "5864            MANUAL      4dr Hatchback           33        24  \n",
       "7924         AUTOMATIC            4dr SUV           24        17  \n",
       "4719         AUTOMATIC      4dr Hatchback           37        32  \n",
       "63           AUTOMATIC              Sedan           20        16  \n",
       "7918         AUTOMATIC            4dr SUV           18        14  \n",
       "\n",
       "[7148 rows x 9 columns]"
      ]
     },
     "execution_count": 21,
     "metadata": {},
     "output_type": "execute_result"
    }
   ],
   "source": [
    "X_train"
   ]
  },
  {
   "cell_type": "code",
   "execution_count": 22,
   "id": "1b8e863b-8712-491b-b467-81fda3206f45",
   "metadata": {},
   "outputs": [],
   "source": [
    "thresholds = np.arange(0.0, 1.01, 0.01)"
   ]
  },
  {
   "cell_type": "code",
   "execution_count": 31,
   "id": "d7202134-f8b4-4747-9b3c-c88816c12ed9",
   "metadata": {},
   "outputs": [
    {
     "name": "stderr",
     "output_type": "stream",
     "text": [
      "C:\\Users\\grigo\\AppData\\Local\\Temp\\ipykernel_2748\\3735739730.py:15: RuntimeWarning: invalid value encountered in longlong_scalars\n",
      "  precision = tp / (tp + fp)\n"
     ]
    }
   ],
   "source": [
    "results = []\n",
    "\n",
    "actual_positive = y_val == 1\n",
    "actual_negative = y_val == 0\n",
    "\n",
    "for t in thresholds:\n",
    "    predict_positive = y_pred >= t\n",
    "    predict_negative = y_pred < t\n",
    "\n",
    "    tp = (predict_positive & actual_positive).sum()\n",
    "    tn = (predict_negative & actual_negative).sum()\n",
    "    fp = (predict_positive & actual_negative).sum()\n",
    "    fn = (predict_negative & actual_positive).sum()\n",
    "\n",
    "    precision = tp / (tp + fp)\n",
    "    recall = tp / (tp + fn)\n",
    "    \n",
    "    results.append([t, precision, recall])"
   ]
  },
  {
   "cell_type": "code",
   "execution_count": 32,
   "id": "5a2d83f8-cbfc-4b10-a051-dd03842d290f",
   "metadata": {},
   "outputs": [],
   "source": [
    "columns = [\"threshold\", \"precision\", \"recall\"]\n",
    "df_results = pd.DataFrame(results, columns=columns)"
   ]
  },
  {
   "cell_type": "code",
   "execution_count": 33,
   "id": "5f1e963c-8b53-48a9-a1e5-55db907b5f2c",
   "metadata": {},
   "outputs": [
    {
     "data": {
      "image/png": "[encoded data removed]",
      "text/plain": [
       "<Figure size 432x288 with 1 Axes>"
      ]
     },
     "metadata": {
      "needs_background": "light"
     },
     "output_type": "display_data"
    }
   ],
   "source": [
    "plt.plot(df_results.threshold, df_results.precision, label=\"Precision\")\n",
    "plt.plot(df_results.threshold, df_results.recall, label=\"Recall\")\n",
    "\n",
    "plt.legend()\n",
    "plt.xlabel(\"Thresholds\")\n",
    "None"
   ]
  },
  {
   "cell_type": "markdown",
   "id": "61efcd83-5db8-4b24-bc18-336296993b3b",
   "metadata": {},
   "source": [
    "Precision and recall curves intersect approximately at threshold 0.48."
   ]
  },
  {
   "cell_type": "code",
   "execution_count": 46,
   "id": "3ea8ccf7-07f4-4c02-9689-7d8950a9d24c",
   "metadata": {},
   "outputs": [
    {
     "name": "stderr",
     "output_type": "stream",
     "text": [
      "C:\\Users\\grigo\\AppData\\Local\\Temp\\ipykernel_2748\\3332160572.py:15: RuntimeWarning: invalid value encountered in longlong_scalars\n",
      "  precision = tp / (tp + fp)\n"
     ]
    }
   ],
   "source": [
    "results = []\n",
    "\n",
    "actual_positive = y_val == 1\n",
    "actual_negative = y_val == 0\n",
    "\n",
    "for t in thresholds:\n",
    "    predict_positive = y_pred >= t\n",
    "    predict_negative = y_pred < t\n",
    "\n",
    "    tp = (predict_positive & actual_positive).sum()\n",
    "    tn = (predict_negative & actual_negative).sum()\n",
    "    fp = (predict_positive & actual_negative).sum()\n",
    "    fn = (predict_negative & actual_positive).sum()\n",
    "\n",
    "    precision = tp / (tp + fp)\n",
    "    recall = tp / (tp + fn)\n",
    "\n",
    "    f1 = 2 * ((precision * recall) / (precision + recall))\n",
    "    \n",
    "    results.append([t.round(2), f1.round(3)])"
   ]
  },
  {
   "cell_type": "code",
   "execution_count": 47,
   "id": "bbeeeb4c-aa40-4033-8186-47280d187d10",
   "metadata": {},
   "outputs": [],
   "source": [
    "results.sort(key=lambda x: x[1], reverse=True)"
   ]
  },
  {
   "cell_type": "code",
   "execution_count": 48,
   "id": "d5c677f8-d996-47e8-95ca-e1940591899e",
   "metadata": {
    "scrolled": true
   },
   "outputs": [
    {
     "data": {
      "text/plain": [
       "[[0.52, 0.88],\n",
       " [0.53, 0.88],\n",
       " [0.5, 0.879],\n",
       " [0.54, 0.879],\n",
       " [0.55, 0.879],\n",
       " [0.46, 0.878],\n",
       " [0.47, 0.878],\n",
       " [0.42, 0.877],\n",
       " [0.43, 0.877],\n",
       " [0.45, 0.877],\n",
       " [0.56, 0.877],\n",
       " [0.41, 0.876],\n",
       " [0.44, 0.876],\n",
       " [0.51, 0.876],\n",
       " [0.57, 0.876],\n",
       " [0.6, 0.876],\n",
       " [0.49, 0.875],\n",
       " [0.58, 0.875],\n",
       " [0.59, 0.875],\n",
       " [0.4, 0.874],\n",
       " [0.48, 0.874],\n",
       " [0.36, 0.873],\n",
       " [0.38, 0.873],\n",
       " [0.37, 0.872],\n",
       " [0.34, 0.871],\n",
       " [0.35, 0.871],\n",
       " [0.39, 0.871],\n",
       " [0.62, 0.869],\n",
       " [0.61, 0.868],\n",
       " [0.63, 0.868],\n",
       " [0.33, 0.867],\n",
       " [0.64, 0.867],\n",
       " [0.32, 0.866],\n",
       " [0.31, 0.865],\n",
       " [0.29, 0.863],\n",
       " [0.65, 0.863],\n",
       " [0.3, 0.862],\n",
       " [0.66, 0.862],\n",
       " [0.28, 0.861],\n",
       " [0.67, 0.861],\n",
       " [0.26, 0.859],\n",
       " [0.27, 0.859],\n",
       " [0.25, 0.856],\n",
       " [0.68, 0.856],\n",
       " [0.24, 0.853],\n",
       " [0.69, 0.853],\n",
       " [0.23, 0.851],\n",
       " [0.7, 0.85],\n",
       " [0.22, 0.849],\n",
       " [0.71, 0.847],\n",
       " [0.21, 0.845],\n",
       " [0.2, 0.843],\n",
       " [0.72, 0.843],\n",
       " [0.73, 0.841],\n",
       " [0.74, 0.84],\n",
       " [0.19, 0.836],\n",
       " [0.18, 0.835],\n",
       " [0.75, 0.835],\n",
       " [0.17, 0.834],\n",
       " [0.76, 0.833],\n",
       " [0.16, 0.832],\n",
       " [0.15, 0.829],\n",
       " [0.77, 0.827],\n",
       " [0.78, 0.821],\n",
       " [0.14, 0.82],\n",
       " [0.79, 0.82],\n",
       " [0.8, 0.815],\n",
       " [0.13, 0.813],\n",
       " [0.81, 0.812],\n",
       " [0.82, 0.811],\n",
       " [0.12, 0.808],\n",
       " [0.11, 0.799],\n",
       " [0.83, 0.799],\n",
       " [0.84, 0.791],\n",
       " [0.1, 0.789],\n",
       " [0.09, 0.784],\n",
       " [0.85, 0.782],\n",
       " [0.08, 0.774],\n",
       " [0.86, 0.766],\n",
       " [0.07, 0.76],\n",
       " [0.06, 0.75],\n",
       " [0.87, 0.746],\n",
       " [0.88, 0.742],\n",
       " [0.05, 0.737],\n",
       " [0.89, 0.736],\n",
       " [0.9, 0.728],\n",
       " [0.04, 0.725],\n",
       " [0.91, 0.722],\n",
       " [0.03, 0.7],\n",
       " [0.92, 0.698],\n",
       " [0.93, 0.674],\n",
       " [0.02, 0.672],\n",
       " [0.94, 0.656],\n",
       " [0.01, 0.631],\n",
       " [0.95, 0.628],\n",
       " [0.96, 0.6],\n",
       " [0.97, 0.576],\n",
       " [0.98, 0.534],\n",
       " [0.99, 0.47],\n",
       " [0.0, 0.431],\n",
       " [1.0, nan]]"
      ]
     },
     "execution_count": 48,
     "metadata": {},
     "output_type": "execute_result"
    }
   ],
   "source": [
    "results"
   ]
  },
  {
   "cell_type": "markdown",
   "id": "6ae2613a-3297-482f-97a7-6d630ce52214",
   "metadata": {},
   "source": [
    "F1 is maximal at threshold 0.52."
   ]
  },
  {
   "cell_type": "code",
   "execution_count": null,
   "id": "32ab3905-7fdc-4adf-bc45-9825c20f0ef5",
   "metadata": {},
   "outputs": [],
   "source": []
  },
  {
   "cell_type": "code",
   "execution_count": null,
   "id": "9bfd1ba6-147c-46ac-a753-637f85d987e9",
   "metadata": {},
   "outputs": [],
   "source": []
  },
  {
   "cell_type": "code",
   "execution_count": null,
   "id": "eaf2a131-cf42-42dc-8f31-f195bf9b931a",
   "metadata": {},
   "outputs": [],
   "source": []
  }
 ],
 "metadata": {
  "kernelspec": {
   "display_name": "Python 3 (ipykernel)",
   "language": "python",
   "name": "python3"
  },
  "language_info": {
   "codemirror_mode": {
    "name": "ipython",
    "version": 3
   },
   "file_extension": ".py",
   "mimetype": "text/x-python",
   "name": "python",
   "nbconvert_exporter": "python",
   "pygments_lexer": "ipython3",
   "version": "3.9.10"
  }
 },
 "nbformat": 4,
 "nbformat_minor": 5
}
