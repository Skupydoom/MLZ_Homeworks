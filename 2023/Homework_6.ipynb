{
 "cells": [
  {
   "cell_type": "markdown",
   "id": "c38cf62a-a560-4176-8273-3fce00e342b6",
   "metadata": {},
   "source": [
    "Answers:  \n",
    "1) \"ocean_proximity\"\n",
    "2) 0.245\n",
    "3) 160\n",
    "4) 25\n",
    "5) median_income\n",
    "6) 0.3"
   ]
  },
  {
   "cell_type": "code",
   "execution_count": 1,
   "id": "bf588fd1-2a8e-4b91-a792-20e2c67bf910",
   "metadata": {},
   "outputs": [],
   "source": [
    "import numpy as np\n",
    "import pandas as pd\n",
    "import matplotlib.pyplot as plt\n",
    "from sklearn.model_selection import train_test_split\n",
    "from sklearn.feature_extraction import DictVectorizer\n",
    "from sklearn.tree import DecisionTreeRegressor, export_text\n",
    "from sklearn.ensemble import RandomForestRegressor\n",
    "from sklearn.metrics import mean_squared_error\n",
    "from tqdm import tqdm\n",
    "\n",
    "import xgboost as xgb"
   ]
  },
  {
   "cell_type": "markdown",
   "id": "0c58cb13-56ff-476d-bcb7-4f532e26ebd6",
   "metadata": {},
   "source": [
    "# Loading data"
   ]
  },
  {
   "cell_type": "code",
   "execution_count": 2,
   "id": "621b760e-36d5-499f-b095-4b0ff0419bda",
   "metadata": {},
   "outputs": [],
   "source": [
    "df = pd.read_csv(\"housing.csv\")"
   ]
  },
  {
   "cell_type": "code",
   "execution_count": 3,
   "id": "1a79b671-926d-4214-b5fe-03babe2a0d50",
   "metadata": {},
   "outputs": [
    {
     "data": {
      "text/html": [
       "<div>\n",
       "<style scoped>\n",
       "    .dataframe tbody tr th:only-of-type {\n",
       "        vertical-align: middle;\n",
       "    }\n",
       "\n",
       "    .dataframe tbody tr th {\n",
       "        vertical-align: top;\n",
       "    }\n",
       "\n",
       "    .dataframe thead th {\n",
       "        text-align: right;\n",
       "    }\n",
       "</style>\n",
       "<table border=\"1\" class=\"dataframe\">\n",
       "  <thead>\n",
       "    <tr style=\"text-align: right;\">\n",
       "      <th></th>\n",
       "      <th>longitude</th>\n",
       "      <th>latitude</th>\n",
       "      <th>housing_median_age</th>\n",
       "      <th>total_rooms</th>\n",
       "      <th>total_bedrooms</th>\n",
       "      <th>population</th>\n",
       "      <th>households</th>\n",
       "      <th>median_income</th>\n",
       "      <th>median_house_value</th>\n",
       "      <th>ocean_proximity</th>\n",
       "    </tr>\n",
       "  </thead>\n",
       "  <tbody>\n",
       "    <tr>\n",
       "      <th>0</th>\n",
       "      <td>-122.23</td>\n",
       "      <td>37.88</td>\n",
       "      <td>41.0</td>\n",
       "      <td>880.0</td>\n",
       "      <td>129.0</td>\n",
       "      <td>322.0</td>\n",
       "      <td>126.0</td>\n",
       "      <td>8.3252</td>\n",
       "      <td>452600.0</td>\n",
       "      <td>NEAR BAY</td>\n",
       "    </tr>\n",
       "    <tr>\n",
       "      <th>1</th>\n",
       "      <td>-122.22</td>\n",
       "      <td>37.86</td>\n",
       "      <td>21.0</td>\n",
       "      <td>7099.0</td>\n",
       "      <td>1106.0</td>\n",
       "      <td>2401.0</td>\n",
       "      <td>1138.0</td>\n",
       "      <td>8.3014</td>\n",
       "      <td>358500.0</td>\n",
       "      <td>NEAR BAY</td>\n",
       "    </tr>\n",
       "    <tr>\n",
       "      <th>2</th>\n",
       "      <td>-122.24</td>\n",
       "      <td>37.85</td>\n",
       "      <td>52.0</td>\n",
       "      <td>1467.0</td>\n",
       "      <td>190.0</td>\n",
       "      <td>496.0</td>\n",
       "      <td>177.0</td>\n",
       "      <td>7.2574</td>\n",
       "      <td>352100.0</td>\n",
       "      <td>NEAR BAY</td>\n",
       "    </tr>\n",
       "    <tr>\n",
       "      <th>3</th>\n",
       "      <td>-122.25</td>\n",
       "      <td>37.85</td>\n",
       "      <td>52.0</td>\n",
       "      <td>1274.0</td>\n",
       "      <td>235.0</td>\n",
       "      <td>558.0</td>\n",
       "      <td>219.0</td>\n",
       "      <td>5.6431</td>\n",
       "      <td>341300.0</td>\n",
       "      <td>NEAR BAY</td>\n",
       "    </tr>\n",
       "    <tr>\n",
       "      <th>4</th>\n",
       "      <td>-122.25</td>\n",
       "      <td>37.85</td>\n",
       "      <td>52.0</td>\n",
       "      <td>1627.0</td>\n",
       "      <td>280.0</td>\n",
       "      <td>565.0</td>\n",
       "      <td>259.0</td>\n",
       "      <td>3.8462</td>\n",
       "      <td>342200.0</td>\n",
       "      <td>NEAR BAY</td>\n",
       "    </tr>\n",
       "  </tbody>\n",
       "</table>\n",
       "</div>"
      ],
      "text/plain": [
       "   longitude  latitude  housing_median_age  total_rooms  total_bedrooms  \\\n",
       "0    -122.23     37.88                41.0        880.0           129.0   \n",
       "1    -122.22     37.86                21.0       7099.0          1106.0   \n",
       "2    -122.24     37.85                52.0       1467.0           190.0   \n",
       "3    -122.25     37.85                52.0       1274.0           235.0   \n",
       "4    -122.25     37.85                52.0       1627.0           280.0   \n",
       "\n",
       "   population  households  median_income  median_house_value ocean_proximity  \n",
       "0       322.0       126.0         8.3252            452600.0        NEAR BAY  \n",
       "1      2401.0      1138.0         8.3014            358500.0        NEAR BAY  \n",
       "2       496.0       177.0         7.2574            352100.0        NEAR BAY  \n",
       "3       558.0       219.0         5.6431            341300.0        NEAR BAY  \n",
       "4       565.0       259.0         3.8462            342200.0        NEAR BAY  "
      ]
     },
     "execution_count": 3,
     "metadata": {},
     "output_type": "execute_result"
    }
   ],
   "source": [
    "df.head()"
   ]
  },
  {
   "cell_type": "markdown",
   "id": "23dccb9a-5eff-4e91-853f-bbee49c3d621",
   "metadata": {},
   "source": [
    "# Data processing"
   ]
  },
  {
   "cell_type": "code",
   "execution_count": 4,
   "id": "c5e5f827-48d2-46e5-955b-a70cb8d14538",
   "metadata": {},
   "outputs": [
    {
     "data": {
      "text/html": [
       "<div>\n",
       "<style scoped>\n",
       "    .dataframe tbody tr th:only-of-type {\n",
       "        vertical-align: middle;\n",
       "    }\n",
       "\n",
       "    .dataframe tbody tr th {\n",
       "        vertical-align: top;\n",
       "    }\n",
       "\n",
       "    .dataframe thead th {\n",
       "        text-align: right;\n",
       "    }\n",
       "</style>\n",
       "<table border=\"1\" class=\"dataframe\">\n",
       "  <thead>\n",
       "    <tr style=\"text-align: right;\">\n",
       "      <th></th>\n",
       "      <th>longitude</th>\n",
       "      <th>latitude</th>\n",
       "      <th>housing_median_age</th>\n",
       "      <th>total_rooms</th>\n",
       "      <th>total_bedrooms</th>\n",
       "      <th>population</th>\n",
       "      <th>households</th>\n",
       "      <th>median_income</th>\n",
       "      <th>median_house_value</th>\n",
       "      <th>ocean_proximity</th>\n",
       "    </tr>\n",
       "  </thead>\n",
       "  <tbody>\n",
       "    <tr>\n",
       "      <th>701</th>\n",
       "      <td>-121.97</td>\n",
       "      <td>37.64</td>\n",
       "      <td>32.0</td>\n",
       "      <td>1283.0</td>\n",
       "      <td>194.0</td>\n",
       "      <td>485.0</td>\n",
       "      <td>171.0</td>\n",
       "      <td>6.0574</td>\n",
       "      <td>431000.0</td>\n",
       "      <td>&lt;1H OCEAN</td>\n",
       "    </tr>\n",
       "    <tr>\n",
       "      <th>830</th>\n",
       "      <td>-121.99</td>\n",
       "      <td>37.61</td>\n",
       "      <td>9.0</td>\n",
       "      <td>3666.0</td>\n",
       "      <td>711.0</td>\n",
       "      <td>2341.0</td>\n",
       "      <td>703.0</td>\n",
       "      <td>4.6458</td>\n",
       "      <td>217000.0</td>\n",
       "      <td>&lt;1H OCEAN</td>\n",
       "    </tr>\n",
       "    <tr>\n",
       "      <th>859</th>\n",
       "      <td>-121.97</td>\n",
       "      <td>37.57</td>\n",
       "      <td>21.0</td>\n",
       "      <td>4342.0</td>\n",
       "      <td>783.0</td>\n",
       "      <td>2172.0</td>\n",
       "      <td>789.0</td>\n",
       "      <td>4.6146</td>\n",
       "      <td>247600.0</td>\n",
       "      <td>&lt;1H OCEAN</td>\n",
       "    </tr>\n",
       "    <tr>\n",
       "      <th>860</th>\n",
       "      <td>-121.96</td>\n",
       "      <td>37.58</td>\n",
       "      <td>15.0</td>\n",
       "      <td>3575.0</td>\n",
       "      <td>597.0</td>\n",
       "      <td>1777.0</td>\n",
       "      <td>559.0</td>\n",
       "      <td>5.7192</td>\n",
       "      <td>283500.0</td>\n",
       "      <td>&lt;1H OCEAN</td>\n",
       "    </tr>\n",
       "    <tr>\n",
       "      <th>861</th>\n",
       "      <td>-121.98</td>\n",
       "      <td>37.58</td>\n",
       "      <td>20.0</td>\n",
       "      <td>4126.0</td>\n",
       "      <td>1031.0</td>\n",
       "      <td>2079.0</td>\n",
       "      <td>975.0</td>\n",
       "      <td>3.6832</td>\n",
       "      <td>216900.0</td>\n",
       "      <td>&lt;1H OCEAN</td>\n",
       "    </tr>\n",
       "  </tbody>\n",
       "</table>\n",
       "</div>"
      ],
      "text/plain": [
       "     longitude  latitude  housing_median_age  total_rooms  total_bedrooms  \\\n",
       "701    -121.97     37.64                32.0       1283.0           194.0   \n",
       "830    -121.99     37.61                 9.0       3666.0           711.0   \n",
       "859    -121.97     37.57                21.0       4342.0           783.0   \n",
       "860    -121.96     37.58                15.0       3575.0           597.0   \n",
       "861    -121.98     37.58                20.0       4126.0          1031.0   \n",
       "\n",
       "     population  households  median_income  median_house_value ocean_proximity  \n",
       "701       485.0       171.0         6.0574            431000.0       <1H OCEAN  \n",
       "830      2341.0       703.0         4.6458            217000.0       <1H OCEAN  \n",
       "859      2172.0       789.0         4.6146            247600.0       <1H OCEAN  \n",
       "860      1777.0       559.0         5.7192            283500.0       <1H OCEAN  \n",
       "861      2079.0       975.0         3.6832            216900.0       <1H OCEAN  "
      ]
     },
     "execution_count": 4,
     "metadata": {},
     "output_type": "execute_result"
    }
   ],
   "source": [
    "limited_df = df[df.ocean_proximity.isin([\"<1H OCEAN\", \"INLAND\"])]\n",
    "limited_df.head()"
   ]
  },
  {
   "cell_type": "markdown",
   "id": "c3cc99e0-b746-4fa7-a93e-6035ef6ba26d",
   "metadata": {},
   "source": [
    "Filling NaNs:"
   ]
  },
  {
   "cell_type": "code",
   "execution_count": 5,
   "id": "2e043192-371b-461b-b9f8-83460216e9f3",
   "metadata": {},
   "outputs": [],
   "source": [
    "limited_df = limited_df.fillna(0)"
   ]
  },
  {
   "cell_type": "code",
   "execution_count": 6,
   "id": "2a3a53a8-d66a-43f9-8824-06b8e2dd63cc",
   "metadata": {},
   "outputs": [
    {
     "data": {
      "text/plain": [
       "longitude             0\n",
       "latitude              0\n",
       "housing_median_age    0\n",
       "total_rooms           0\n",
       "total_bedrooms        0\n",
       "population            0\n",
       "households            0\n",
       "median_income         0\n",
       "median_house_value    0\n",
       "ocean_proximity       0\n",
       "dtype: int64"
      ]
     },
     "execution_count": 6,
     "metadata": {},
     "output_type": "execute_result"
    }
   ],
   "source": [
    "limited_df.isna().sum()"
   ]
  },
  {
   "cell_type": "markdown",
   "id": "83794751-4756-4e8f-9845-cc1f645e5e25",
   "metadata": {},
   "source": [
    "Taking the logarithm of the \"median_house_value\" column:"
   ]
  },
  {
   "cell_type": "code",
   "execution_count": 7,
   "id": "9f1eb440-0790-4f01-92d9-e131347c3f39",
   "metadata": {},
   "outputs": [
    {
     "data": {
      "text/plain": [
       "<AxesSubplot:>"
      ]
     },
     "execution_count": 7,
     "metadata": {},
     "output_type": "execute_result"
    },
    {
     "data": {
      "image/png": "[encoded data removed]",
      "text/plain": [
       "<Figure size 432x288 with 1 Axes>"
      ]
     },
     "metadata": {
      "needs_background": "light"
     },
     "output_type": "display_data"
    }
   ],
   "source": [
    "limited_df.median_house_value.hist()"
   ]
  },
  {
   "cell_type": "code",
   "execution_count": 8,
   "id": "cb275f4d-7926-4e2c-ade3-472c5eb7082c",
   "metadata": {},
   "outputs": [],
   "source": [
    "limited_df.median_house_value = np.log1p(limited_df.median_house_value)"
   ]
  },
  {
   "cell_type": "code",
   "execution_count": 9,
   "id": "8d61cebf-3ccd-4e43-882e-3a7ccc194199",
   "metadata": {},
   "outputs": [
    {
     "data": {
      "text/plain": [
       "<AxesSubplot:>"
      ]
     },
     "execution_count": 9,
     "metadata": {},
     "output_type": "execute_result"
    },
    {
     "data": {
      "image/png": "[encoded data removed]",
      "text/plain": [
       "<Figure size 432x288 with 1 Axes>"
      ]
     },
     "metadata": {
      "needs_background": "light"
     },
     "output_type": "display_data"
    }
   ],
   "source": [
    "limited_df.median_house_value.hist()"
   ]
  },
  {
   "cell_type": "markdown",
   "id": "1ad3c3bd-4da0-49c1-abb8-ec06302a7b1c",
   "metadata": {},
   "source": [
    "Splitting the data:"
   ]
  },
  {
   "cell_type": "code",
   "execution_count": 10,
   "id": "3eb82c94-60e5-4c1c-a6a5-7968f66adb24",
   "metadata": {},
   "outputs": [],
   "source": [
    "X = limited_df.drop(columns=[\"median_house_value\"], axis=1)\n",
    "y = limited_df[\"median_house_value\"]"
   ]
  },
  {
   "cell_type": "code",
   "execution_count": 11,
   "id": "1ca36227-70fe-4e72-b5dc-4bf33cc902ae",
   "metadata": {},
   "outputs": [
    {
     "name": "stdout",
     "output_type": "stream",
     "text": [
      "Full_train size:\n",
      " 12549 12549\n",
      "Test size:\n",
      " 3138 3138\n",
      "Train size:\n",
      " 9411 9411\n",
      "Validation size:\n",
      " 3138 3138\n"
     ]
    }
   ],
   "source": [
    "X_full_train, X_test, y_full_train, y_test = train_test_split(X, y, test_size=0.2, random_state=1)\n",
    "X_train, X_val, y_train, y_val = train_test_split(X_full_train, y_full_train, test_size=0.25, random_state=1)\n",
    "\n",
    "print(\"Full_train size:\\n\", X_full_train.shape[0], y_full_train.shape[0])\n",
    "print(\"Test size:\\n\", X_test.shape[0], y_test.shape[0])\n",
    "print(\"Train size:\\n\", X_train.shape[0], y_train.shape[0])\n",
    "print(\"Validation size:\\n\", X_val.shape[0], y_val.shape[0])"
   ]
  },
  {
   "cell_type": "markdown",
   "id": "d5925c0e-88fb-4ff5-8e35-b015672eb93a",
   "metadata": {},
   "source": [
    "Checking that data rations equal to 0.6|0.2|0.2:"
   ]
  },
  {
   "cell_type": "code",
   "execution_count": 12,
   "id": "794715a0-230c-4374-8b09-d4e034a53848",
   "metadata": {},
   "outputs": [
    {
     "data": {
      "text/plain": [
       "0.20003824823101932"
      ]
     },
     "execution_count": 12,
     "metadata": {},
     "output_type": "execute_result"
    }
   ],
   "source": [
    "X_test.shape[0] / (X_full_train.shape[0] + X_test.shape[0])"
   ]
  },
  {
   "cell_type": "code",
   "execution_count": 13,
   "id": "d8b41633-7242-4622-912b-ec46a9e962e0",
   "metadata": {},
   "outputs": [
    {
     "data": {
      "text/plain": [
       "0.20003824823101932"
      ]
     },
     "execution_count": 13,
     "metadata": {},
     "output_type": "execute_result"
    }
   ],
   "source": [
    "X_val.shape[0] / (X_full_train.shape[0] + X_val.shape[0])"
   ]
  },
  {
   "cell_type": "code",
   "execution_count": 14,
   "id": "f586b061-7b74-4e70-a468-642ad05d4969",
   "metadata": {},
   "outputs": [
    {
     "data": {
      "text/plain": [
       "0.5999235035379614"
      ]
     },
     "execution_count": 14,
     "metadata": {},
     "output_type": "execute_result"
    }
   ],
   "source": [
    "X_train.shape[0] / (X_train.shape[0] + X_val.shape[0] + X_test.shape[0])"
   ]
  },
  {
   "cell_type": "markdown",
   "id": "a2077f8b-5c72-4c96-a4b6-f3574f0d32d8",
   "metadata": {},
   "source": [
    "___"
   ]
  },
  {
   "cell_type": "code",
   "execution_count": 15,
   "id": "cd26ba7d-b02c-405e-9aeb-b327cc0537c8",
   "metadata": {},
   "outputs": [],
   "source": [
    "dv = DictVectorizer(sparse=True)\n",
    "\n",
    "dicts_full_train = X_full_train.to_dict(orient=\"records\")\n",
    "dicts_train = X_train.to_dict(orient=\"records\")\n",
    "dicts_val = X_val.to_dict(orient=\"records\")\n",
    "dicts_test = X_test.to_dict(orient=\"records\")\n",
    "\n",
    "X_full_train = dv.fit_transform(dicts_full_train)\n",
    "X_train = dv.transform(dicts_train)\n",
    "X_val = dv.transform(dicts_val)"
   ]
  },
  {
   "cell_type": "markdown",
   "id": "e5764c06-c06a-48e4-9c93-c53d1f02d9fa",
   "metadata": {},
   "source": [
    "# Training models"
   ]
  },
  {
   "cell_type": "code",
   "execution_count": 16,
   "id": "190a3ad1-479e-4d83-a356-89ee25dfa576",
   "metadata": {},
   "outputs": [],
   "source": [
    "dtr = DecisionTreeRegressor(max_depth=1)\n",
    "\n",
    "dtr.fit(X_train, y_train)\n",
    "None"
   ]
  },
  {
   "cell_type": "code",
   "execution_count": 17,
   "id": "0b285183-65fa-447f-a2e0-8992e7887ff8",
   "metadata": {},
   "outputs": [
    {
     "name": "stdout",
     "output_type": "stream",
     "text": [
      "|--- ocean_proximity=<1H OCEAN <= 0.50\n",
      "|   |--- value: [11.61]\n",
      "|--- ocean_proximity=<1H OCEAN >  0.50\n",
      "|   |--- value: [12.30]\n",
      "\n"
     ]
    }
   ],
   "source": [
    "print(export_text(dtr, feature_names=dv.get_feature_names_out().tolist()))"
   ]
  },
  {
   "cell_type": "markdown",
   "id": "08a18451-1874-43b2-88e1-36c5ca12b0b2",
   "metadata": {},
   "source": [
    "\"ocean_proximity\" is used for splitting the data"
   ]
  },
  {
   "cell_type": "code",
   "execution_count": 18,
   "id": "ac35dd71-78a6-4514-9e9c-b96bdfd6cdc8",
   "metadata": {},
   "outputs": [
    {
     "name": "stdout",
     "output_type": "stream",
     "text": [
      "0.245\n"
     ]
    }
   ],
   "source": [
    "rfr = RandomForestRegressor(n_estimators=10, random_state=1, n_jobs=-1)\n",
    "\n",
    "rfr.fit(X_train, y_train)\n",
    "val_preds = rfr.predict(X_val)\n",
    "\n",
    "print(\"%.3f\" % mean_squared_error(y_val, val_preds, squared=False))"
   ]
  },
  {
   "cell_type": "code",
   "execution_count": 19,
   "id": "f783d6c4-0d5b-497b-bfc2-116d601bf25e",
   "metadata": {},
   "outputs": [
    {
     "name": "stderr",
     "output_type": "stream",
     "text": [
      "100%|██████████████████████████████████████████████████████████████████████████████████| 20/20 [00:40<00:00,  2.04s/it]\n"
     ]
    }
   ],
   "source": [
    "estimators = np.arange(10, 201, 10)\n",
    "rmses = []\n",
    "\n",
    "rfr = RandomForestRegressor(\n",
    "    n_estimators=1,\n",
    "    random_state=1,\n",
    "    n_jobs=-1,\n",
    "    warm_start=True,\n",
    ")\n",
    "\n",
    "for e in tqdm(estimators):\n",
    "    rfr.n_estimators = e\n",
    "    rfr.fit(X_train, y_train)\n",
    "    val_preds = rfr.predict(X_val)\n",
    "\n",
    "    rmse = mean_squared_error(y_val, val_preds, squared=False)\n",
    "\n",
    "    rmses.append([e, rmse])"
   ]
  },
  {
   "cell_type": "code",
   "execution_count": 20,
   "id": "898b97e5-4444-46b2-9b02-fe51ce88f1af",
   "metadata": {},
   "outputs": [
    {
     "data": {
      "text/html": [
       "<div>\n",
       "<style scoped>\n",
       "    .dataframe tbody tr th:only-of-type {\n",
       "        vertical-align: middle;\n",
       "    }\n",
       "\n",
       "    .dataframe tbody tr th {\n",
       "        vertical-align: top;\n",
       "    }\n",
       "\n",
       "    .dataframe thead th {\n",
       "        text-align: right;\n",
       "    }\n",
       "</style>\n",
       "<table border=\"1\" class=\"dataframe\">\n",
       "  <thead>\n",
       "    <tr style=\"text-align: right;\">\n",
       "      <th></th>\n",
       "      <th>n_estimators</th>\n",
       "      <th>rmse</th>\n",
       "    </tr>\n",
       "  </thead>\n",
       "  <tbody>\n",
       "    <tr>\n",
       "      <th>0</th>\n",
       "      <td>10</td>\n",
       "      <td>0.245277</td>\n",
       "    </tr>\n",
       "    <tr>\n",
       "      <th>1</th>\n",
       "      <td>20</td>\n",
       "      <td>0.239041</td>\n",
       "    </tr>\n",
       "    <tr>\n",
       "      <th>2</th>\n",
       "      <td>30</td>\n",
       "      <td>0.236995</td>\n",
       "    </tr>\n",
       "    <tr>\n",
       "      <th>3</th>\n",
       "      <td>40</td>\n",
       "      <td>0.235509</td>\n",
       "    </tr>\n",
       "    <tr>\n",
       "      <th>4</th>\n",
       "      <td>50</td>\n",
       "      <td>0.235021</td>\n",
       "    </tr>\n",
       "  </tbody>\n",
       "</table>\n",
       "</div>"
      ],
      "text/plain": [
       "   n_estimators      rmse\n",
       "0            10  0.245277\n",
       "1            20  0.239041\n",
       "2            30  0.236995\n",
       "3            40  0.235509\n",
       "4            50  0.235021"
      ]
     },
     "execution_count": 20,
     "metadata": {},
     "output_type": "execute_result"
    }
   ],
   "source": [
    "df_scores = pd.DataFrame(rmses, columns=[\"n_estimators\", \"rmse\"])\n",
    "df_scores.sort_values(by=\"rmse\", ascending=False).head()"
   ]
  },
  {
   "cell_type": "code",
   "execution_count": 21,
   "id": "77a063e6-ba03-43fd-aadc-6b73ba94c494",
   "metadata": {},
   "outputs": [
    {
     "data": {
      "text/plain": [
       "[<matplotlib.lines.Line2D at 0x1ff1be55eb0>]"
      ]
     },
     "execution_count": 21,
     "metadata": {},
     "output_type": "execute_result"
    },
    {
     "data": {
      "image/png": "[encoded data removed]",
      "text/plain": [
       "<Figure size 720x504 with 1 Axes>"
      ]
     },
     "metadata": {
      "needs_background": "light"
     },
     "output_type": "display_data"
    }
   ],
   "source": [
    "plt.figure(figsize=(10, 7))\n",
    "\n",
    "plt.plot(df_scores.n_estimators, df_scores.rmse.round(3))"
   ]
  },
  {
   "cell_type": "markdown",
   "id": "8995b5f0-c8e4-46db-a7a4-bdb5786601fa",
   "metadata": {},
   "source": [
    "\"n_estimators\" = 160 shows the best RMSE, bigger values don't improve the score"
   ]
  },
  {
   "cell_type": "code",
   "execution_count": 22,
   "id": "501c6d26-0aa3-4408-8ea2-56858568a839",
   "metadata": {},
   "outputs": [
    {
     "name": "stderr",
     "output_type": "stream",
     "text": [
      "100%|██████████████████████████████████████████████████████████████████████████████████| 20/20 [00:13<00:00,  1.50it/s]\n",
      "100%|██████████████████████████████████████████████████████████████████████████████████| 20/20 [00:25<00:00,  1.26s/it]\n",
      "100%|██████████████████████████████████████████████████████████████████████████████████| 20/20 [00:35<00:00,  1.80s/it]\n",
      "100%|██████████████████████████████████████████████████████████████████████████████████| 20/20 [00:36<00:00,  1.84s/it]\n"
     ]
    }
   ],
   "source": [
    "estimators = np.arange(10, 201, 10)\n",
    "max_depths = [10, 15, 20, 25]\n",
    "rmses = []\n",
    "\n",
    "for d in max_depths:\n",
    "    rfr = RandomForestRegressor(\n",
    "        n_estimators=1,\n",
    "        max_depth=d,\n",
    "        random_state=1,\n",
    "        n_jobs=-1,\n",
    "        warm_start=True,\n",
    "    )\n",
    "    \n",
    "    for e in tqdm(estimators):\n",
    "        rfr.n_estimators = e\n",
    "        rfr.fit(X_train, y_train)\n",
    "        val_preds = rfr.predict(X_val)\n",
    "    \n",
    "        rmse = mean_squared_error(y_val, val_preds, squared=False)\n",
    "    \n",
    "        rmses.append([d, e, rmse])"
   ]
  },
  {
   "cell_type": "code",
   "execution_count": 23,
   "id": "b9eb084f-5297-4945-a658-d10cf447de68",
   "metadata": {},
   "outputs": [
    {
     "data": {
      "text/html": [
       "<div>\n",
       "<style scoped>\n",
       "    .dataframe tbody tr th:only-of-type {\n",
       "        vertical-align: middle;\n",
       "    }\n",
       "\n",
       "    .dataframe tbody tr th {\n",
       "        vertical-align: top;\n",
       "    }\n",
       "\n",
       "    .dataframe thead th {\n",
       "        text-align: right;\n",
       "    }\n",
       "</style>\n",
       "<table border=\"1\" class=\"dataframe\">\n",
       "  <thead>\n",
       "    <tr style=\"text-align: right;\">\n",
       "      <th></th>\n",
       "      <th>max_depth</th>\n",
       "      <th>n_estimators</th>\n",
       "      <th>rmse</th>\n",
       "    </tr>\n",
       "  </thead>\n",
       "  <tbody>\n",
       "    <tr>\n",
       "      <th>0</th>\n",
       "      <td>10</td>\n",
       "      <td>10</td>\n",
       "      <td>0.250677</td>\n",
       "    </tr>\n",
       "    <tr>\n",
       "      <th>1</th>\n",
       "      <td>10</td>\n",
       "      <td>20</td>\n",
       "      <td>0.247672</td>\n",
       "    </tr>\n",
       "    <tr>\n",
       "      <th>2</th>\n",
       "      <td>10</td>\n",
       "      <td>30</td>\n",
       "      <td>0.246434</td>\n",
       "    </tr>\n",
       "    <tr>\n",
       "      <th>20</th>\n",
       "      <td>15</td>\n",
       "      <td>10</td>\n",
       "      <td>0.245772</td>\n",
       "    </tr>\n",
       "    <tr>\n",
       "      <th>7</th>\n",
       "      <td>10</td>\n",
       "      <td>80</td>\n",
       "      <td>0.245640</td>\n",
       "    </tr>\n",
       "  </tbody>\n",
       "</table>\n",
       "</div>"
      ],
      "text/plain": [
       "    max_depth  n_estimators      rmse\n",
       "0          10            10  0.250677\n",
       "1          10            20  0.247672\n",
       "2          10            30  0.246434\n",
       "20         15            10  0.245772\n",
       "7          10            80  0.245640"
      ]
     },
     "execution_count": 23,
     "metadata": {},
     "output_type": "execute_result"
    }
   ],
   "source": [
    "df_scores = pd.DataFrame(rmses, columns=[\"max_depth\", \"n_estimators\", \"rmse\"])\n",
    "df_scores.sort_values(by=\"rmse\", ascending=False).head()"
   ]
  },
  {
   "cell_type": "code",
   "execution_count": 24,
   "id": "be3ac8b1-ae6d-43d9-98c6-3e3f7d697dd1",
   "metadata": {},
   "outputs": [
    {
     "data": {
      "text/plain": [
       "<matplotlib.legend.Legend at 0x1ff1bfec160>"
      ]
     },
     "execution_count": 24,
     "metadata": {},
     "output_type": "execute_result"
    },
    {
     "data": {
      "image/png": "[encoded data removed]",
      "text/plain": [
       "<Figure size 720x504 with 1 Axes>"
      ]
     },
     "metadata": {
      "needs_background": "light"
     },
     "output_type": "display_data"
    }
   ],
   "source": [
    "plt.figure(figsize=(10, 7))\n",
    "\n",
    "for d in max_depths:\n",
    "    df_depth = df_scores[df_scores.max_depth == d]\n",
    "    plt.plot(df_depth.n_estimators, df_depth.rmse, label=d)\n",
    "\n",
    "plt.legend()"
   ]
  },
  {
   "cell_type": "markdown",
   "id": "f2fc41e5-5391-436b-b4d2-3a4580c1e6a7",
   "metadata": {},
   "source": [
    "Max_depth = 25 shows the best RMSE"
   ]
  },
  {
   "cell_type": "markdown",
   "id": "059b0248-eb29-4ab1-84ac-722f732c9ea4",
   "metadata": {},
   "source": [
    "___"
   ]
  },
  {
   "cell_type": "code",
   "execution_count": 25,
   "id": "12f0e26b-d51b-49de-b40a-43a277f012c6",
   "metadata": {},
   "outputs": [
    {
     "data": {
      "text/plain": [
       "array([0.0151361 , 0.03031726, 0.10200703, 0.08624381, 0.33561113,\n",
       "       0.29247297, 0.07380644, 0.02713606, 0.01585222, 0.02141699])"
      ]
     },
     "execution_count": 25,
     "metadata": {},
     "output_type": "execute_result"
    }
   ],
   "source": [
    "rfr = RandomForestRegressor(\n",
    "        n_estimators=10,\n",
    "        max_depth=20,\n",
    "        random_state=1,\n",
    "        n_jobs=-1,\n",
    "    )\n",
    "\n",
    "rfr.fit(X_train, y_train)\n",
    "\n",
    "rfr.feature_importances_"
   ]
  },
  {
   "cell_type": "code",
   "execution_count": 26,
   "id": "d1f1f218-a659-484d-b443-db4298b3dd90",
   "metadata": {},
   "outputs": [
    {
     "data": {
      "text/html": [
       "<div>\n",
       "<style scoped>\n",
       "    .dataframe tbody tr th:only-of-type {\n",
       "        vertical-align: middle;\n",
       "    }\n",
       "\n",
       "    .dataframe tbody tr th {\n",
       "        vertical-align: top;\n",
       "    }\n",
       "\n",
       "    .dataframe thead th {\n",
       "        text-align: right;\n",
       "    }\n",
       "</style>\n",
       "<table border=\"1\" class=\"dataframe\">\n",
       "  <thead>\n",
       "    <tr style=\"text-align: right;\">\n",
       "      <th></th>\n",
       "      <th>feature</th>\n",
       "      <th>importance</th>\n",
       "    </tr>\n",
       "  </thead>\n",
       "  <tbody>\n",
       "    <tr>\n",
       "      <th>4</th>\n",
       "      <td>median_income</td>\n",
       "      <td>0.336</td>\n",
       "    </tr>\n",
       "    <tr>\n",
       "      <th>5</th>\n",
       "      <td>ocean_proximity=&lt;1H OCEAN</td>\n",
       "      <td>0.292</td>\n",
       "    </tr>\n",
       "    <tr>\n",
       "      <th>2</th>\n",
       "      <td>latitude</td>\n",
       "      <td>0.102</td>\n",
       "    </tr>\n",
       "    <tr>\n",
       "      <th>3</th>\n",
       "      <td>longitude</td>\n",
       "      <td>0.086</td>\n",
       "    </tr>\n",
       "    <tr>\n",
       "      <th>6</th>\n",
       "      <td>ocean_proximity=INLAND</td>\n",
       "      <td>0.074</td>\n",
       "    </tr>\n",
       "    <tr>\n",
       "      <th>1</th>\n",
       "      <td>housing_median_age</td>\n",
       "      <td>0.030</td>\n",
       "    </tr>\n",
       "    <tr>\n",
       "      <th>7</th>\n",
       "      <td>population</td>\n",
       "      <td>0.027</td>\n",
       "    </tr>\n",
       "    <tr>\n",
       "      <th>9</th>\n",
       "      <td>total_rooms</td>\n",
       "      <td>0.021</td>\n",
       "    </tr>\n",
       "    <tr>\n",
       "      <th>8</th>\n",
       "      <td>total_bedrooms</td>\n",
       "      <td>0.016</td>\n",
       "    </tr>\n",
       "    <tr>\n",
       "      <th>0</th>\n",
       "      <td>households</td>\n",
       "      <td>0.015</td>\n",
       "    </tr>\n",
       "  </tbody>\n",
       "</table>\n",
       "</div>"
      ],
      "text/plain": [
       "                     feature  importance\n",
       "4              median_income       0.336\n",
       "5  ocean_proximity=<1H OCEAN       0.292\n",
       "2                   latitude       0.102\n",
       "3                  longitude       0.086\n",
       "6     ocean_proximity=INLAND       0.074\n",
       "1         housing_median_age       0.030\n",
       "7                 population       0.027\n",
       "9                total_rooms       0.021\n",
       "8             total_bedrooms       0.016\n",
       "0                 households       0.015"
      ]
     },
     "execution_count": 26,
     "metadata": {},
     "output_type": "execute_result"
    }
   ],
   "source": [
    "feature_importances = rfr.feature_importances_.round(3).tolist()\n",
    "columns = dv.feature_names_\n",
    "\n",
    "importance_df = pd.DataFrame(zip(columns, feature_importances), columns=[\"feature\", \"importance\"])\n",
    "importance_df.sort_values(by=\"importance\", ascending=False)"
   ]
  },
  {
   "cell_type": "markdown",
   "id": "b1f14ba5-5225-4573-95ba-b28e75449007",
   "metadata": {},
   "source": [
    "Feature \"median_income\" has the most importance score"
   ]
  },
  {
   "cell_type": "code",
   "execution_count": 27,
   "id": "70589995-928a-466d-9567-8f80ccb2237e",
   "metadata": {},
   "outputs": [],
   "source": [
    "columns = [c.replace('<', \"less\") for c in columns]"
   ]
  },
  {
   "cell_type": "code",
   "execution_count": 28,
   "id": "741f34bb-3e8b-47ee-859b-ea3755ae51b4",
   "metadata": {},
   "outputs": [],
   "source": [
    "dfull_train = xgb.DMatrix(X_full_train, label=y_full_train, feature_names=columns)\n",
    "dtrain = xgb.DMatrix(X_train, label=y_train, feature_names=columns)\n",
    "dval = xgb.DMatrix(X_val, label=y_val, feature_names=columns)"
   ]
  },
  {
   "cell_type": "code",
   "execution_count": 29,
   "id": "c00085e2-ea49-4514-8351-86b473394bad",
   "metadata": {},
   "outputs": [],
   "source": [
    "watchlist = [[dtrain, \"train\"], [dval, \"val\"]]"
   ]
  },
  {
   "cell_type": "code",
   "execution_count": 30,
   "id": "69350367-32a0-48ce-ad27-3bff6e1a8c19",
   "metadata": {},
   "outputs": [],
   "source": [
    "%%capture output_eta_1\n",
    "\n",
    "xgb_params = {\n",
    "    'eta': 0.3, \n",
    "    'max_depth': 6,\n",
    "    'min_child_weight': 1,\n",
    "    \n",
    "    'objective': 'reg:squarederror',\n",
    "    'nthread': 8,\n",
    "    \n",
    "    'seed': 1,\n",
    "    'verbosity': 1,\n",
    "}\n",
    "\n",
    "model = xgb.train(xgb_params, dtrain, num_boost_round=200,\n",
    "                  verbose_eval=5,\n",
    "                  evals=watchlist)"
   ]
  },
  {
   "cell_type": "code",
   "execution_count": 31,
   "id": "75862211-9f3e-4aa1-ad6d-4612df0b165d",
   "metadata": {},
   "outputs": [],
   "source": [
    "%%capture output_eta_2\n",
    "\n",
    "xgb_params['eta'] = 0.1\n",
    "\n",
    "model = xgb.train(xgb_params, dtrain, num_boost_round=200,\n",
    "                  verbose_eval=5,\n",
    "                  evals=watchlist)"
   ]
  },
  {
   "cell_type": "code",
   "execution_count": 32,
   "id": "b4c70b29-fa10-46c2-98a7-392977419343",
   "metadata": {},
   "outputs": [],
   "source": [
    "def parse_xgb_output(output):\n",
    "    results = []\n",
    "\n",
    "    for line in output.stdout.strip().split('\\n'):\n",
    "        it_line, train_line, val_line = line.split('\\t')\n",
    "\n",
    "        it = int(it_line.strip('[]'))\n",
    "        train = float(train_line.split(':')[1])\n",
    "        val = float(val_line.split(':')[1])\n",
    "\n",
    "        results.append((it, train, val))\n",
    "    \n",
    "    columns = ['num_iter', 'train_auc', 'val_auc']\n",
    "    df_results = pd.DataFrame(results, columns=columns)\n",
    "    return df_results"
   ]
  },
  {
   "cell_type": "code",
   "execution_count": 33,
   "id": "9fc613ec-e52a-41c2-bc44-6e368a6a367f",
   "metadata": {},
   "outputs": [],
   "source": [
    "df_score_eta_0_3 = parse_xgb_output(output_eta_1)\n",
    "df_score_eta_0_1 = parse_xgb_output(output_eta_2)"
   ]
  },
  {
   "cell_type": "code",
   "execution_count": 34,
   "id": "39fe53f2-a3ca-4474-abcf-f05480b984bf",
   "metadata": {},
   "outputs": [
    {
     "data": {
      "text/plain": [
       "<matplotlib.legend.Legend at 0x1ff29ecf4c0>"
      ]
     },
     "execution_count": 34,
     "metadata": {},
     "output_type": "execute_result"
    },
    {
     "data": {
      "image/png": "[encoded data removed]",
      "text/plain": [
       "<Figure size 720x504 with 1 Axes>"
      ]
     },
     "metadata": {
      "needs_background": "light"
     },
     "output_type": "display_data"
    }
   ],
   "source": [
    "plt.figure(figsize=(10, 7))\n",
    "\n",
    "plt.plot(df_score_eta_0_3.num_iter, df_score_eta_0_3.val_auc, label='eta 0.3')\n",
    "plt.plot(df_score_eta_0_1.num_iter, df_score_eta_0_1.val_auc, label='eta 0.1')\n",
    "\n",
    "plt.ylim([0.222, 0.4])\n",
    "plt.legend()"
   ]
  },
  {
   "cell_type": "markdown",
   "id": "541391e2-108d-4119-9118-e707d18c26ca",
   "metadata": {},
   "source": [
    "Two different etas show close result. But eta=0.3 learns faster"
   ]
  }
 ],
 "metadata": {
  "kernelspec": {
   "display_name": "Python 3 (ipykernel)",
   "language": "python",
   "name": "python3"
  },
  "language_info": {
   "codemirror_mode": {
    "name": "ipython",
    "version": 3
   },
   "file_extension": ".py",
   "mimetype": "text/x-python",
   "name": "python",
   "nbconvert_exporter": "python",
   "pygments_lexer": "ipython3",
   "version": "3.9.10"
  }
 },
 "nbformat": 4,
 "nbformat_minor": 5
}
